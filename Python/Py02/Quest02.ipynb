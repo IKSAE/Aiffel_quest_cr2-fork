{
  "nbformat": 4,
  "nbformat_minor": 0,
  "metadata": {
    "colab": {
      "provenance": [],
      "include_colab_link": true
    },
    "kernelspec": {
      "name": "python3",
      "display_name": "Python 3"
    },
    "language_info": {
      "name": "python"
    }
  },
  "cells": [
    {
      "cell_type": "markdown",
      "metadata": {
        "id": "view-in-github",
        "colab_type": "text"
      },
      "source": [
        "<a href=\"https://colab.research.google.com/github/jyns417/Aiffel_quest_cr2/blob/master/Python/Py02/Quest02.ipynb\" target=\"_parent\"><img src=\"https://colab.research.google.com/assets/colab-badge.svg\" alt=\"Open In Colab\"/></a>"
      ]
    },
    {
      "cell_type": "code",
      "execution_count": 36,
      "metadata": {
        "id": "n68WgVFqQZXn",
        "colab": {
          "base_uri": "https://localhost:8080/"
        },
        "outputId": "d86b6d65-76ef-433c-d58b-6fbab4271781"
      },
      "outputs": [
        {
          "name": "stdout",
          "output_type": "stream",
          "text": [
            "i am a boy\n"
          ]
        },
        {
          "output_type": "execute_result",
          "data": {
            "text/plain": [
              "[2, 130, 3, 558]"
            ]
          },
          "metadata": {},
          "execution_count": 36
        }
      ],
      "source": [
        "from ast import JoinedStr\n",
        "\n",
        "## Quest 2: Avengers Vocab ##\n",
        "# coder: 김지영, 윤석진\n",
        "# input: Avengers.txt 파일\n",
        "# output: 단어가 특정 정수와 매칭되는 dictionary 형태의 단어장\n",
        "\n",
        "# 0. 텍스트 전처리\n",
        "# 1. 각 단어별 빈도수를 딕셔너리 형태로 저장\n",
        "# 2. 딕셔너리를 빈도순으로 내림차순으로 정렬하고, 정렬 순서대로 정수 index 를 부여\n",
        "# 3. 텍스트를 input(_txt_) 으로 입력받고 정수를 return 하는 함수를 만든다\n",
        "\n",
        "# 0. text 전처리\n",
        "# 0-1. 파일 불러오기\n",
        "# 0-2. 소문자 변환 / 기호제거 / 단어단위로 분리\n",
        "#with open('/content/Avengers.txt', 'r+') as file:\n",
        "with open('/Avengers.txt', 'r+') as file: #텍스트 파일 불러오기\n",
        "  list1 = file.read().lower().replace('.', '').replace(',', '').replace('-', '').replace('?', '').split() #파일을 read하고 소문자 처리하고 각종 특수문자를 제거하고 공백 기준으로 나누기\n",
        "  #print(list1)\n",
        "\n",
        "# 1. dic 이름의 dictionary 만들기\n",
        "# dic 은 단어는 key 로 하고 단어의 반복 횟수를 value 로 받는 dictionary\n",
        "  dic={}\n",
        "  for i in list1: #list1 에서 받은 단어에 대해\n",
        "    try: dic[i] +=1  # 해당 단어를 찾을때마다 value 값을 1씩 더해준다\n",
        "    except: dic[i]=1 # 단어가 없으면 1로 유지\n",
        "#print(dic)\n",
        "\n",
        "# 2. vocab 이름의 dictionary 만들기\n",
        "\n",
        "dic_sorted = dict(sorted(dic.items(), key=lambda x: x[1], reverse=True)) #dic 의 key value에 따라 오름차순으로 sorting 해줌\n",
        "vocab = {a:b for b, a in enumerate(dic_sorted.keys())}  #enumerate로 0부터 숫자:값으로 받은 튜플을 역전하여 딕셔너리로 저장\n",
        "\n",
        "#print(vocab)\n",
        "\n",
        "# 3. encoder() 이름의 함수 만들기\n",
        "newtext=input()\n",
        "newstring=newtext.split()\n",
        "#print(newstring):입력받은 문장에서 단어만 따로 리스트로 출력됨\n",
        "\n",
        "def encoder():\n",
        "  output=[] # output 을 빈 list 으로 지정\n",
        "  for i in newstring: #newstring 의 각 단어마다 반복문을 돌림\n",
        "    output.append(vocab.get(i))  #각단어에 해당되는 value 값을 vocab 에서 찾아서 output 에 추가해줌\n",
        "  return output\n",
        "\n",
        "encoder()\n",
        "\n",
        "\n"
      ]
    },
    {
      "cell_type": "markdown",
      "source": [
        "회고:\n",
        "윤석진\n",
        "- 리스트와 딕셔너리를 다루는게 생각보다 많이 어려웠다.\n",
        "- 파트너분과 챗gpt가 많이 도움이 되었다.\n",
        "\n",
        "김지영\n",
        "- 이전의 페어프로그래밍 방식과는 조금 다르게, 각 세션을 나눠서 한몀이 프로그래밍을 하고 그것을 공유해서 다른 한명이 보면서 에러가 나거나 고쳐야 될 점이 있으면 찾아보면서 알려주는 방식으로 진행했씁니다\n",
        "- 좀 더 자주적으로 프로그래밍을 하게 되고, 각자가 사고하는 방식을 알 수 있었습니다\n",
        "- 서로 이해가지 않는 것을 물어보면서 대답해주는 과정에서 저도 좀더 코드르 잘 이해할 수 있었습니다"
      ],
      "metadata": {
        "id": "IjqGgmI3uLrg"
      }
    },
    {
      "cell_type": "code",
      "source": [
        "from google.colab import drive\n",
        "drive.mount('/content/drive')"
      ],
      "metadata": {
        "colab": {
          "base_uri": "https://localhost:8080/"
        },
        "id": "VVLWT8xQV2iU",
        "outputId": "c6269d51-f5cf-4f65-9103-7996e0123259"
      },
      "execution_count": null,
      "outputs": [
        {
          "output_type": "stream",
          "name": "stdout",
          "text": [
            "Mounted at /content/drive\n"
          ]
        }
      ]
    }
  ]
}